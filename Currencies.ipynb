{
  "nbformat": 4,
  "nbformat_minor": 0,
  "metadata": {
    "colab": {
      "provenance": [],
      "authorship_tag": "ABX9TyMuOcD7tgfk6W44l0Sg4ob6",
      "include_colab_link": true
    },
    "kernelspec": {
      "name": "python3",
      "display_name": "Python 3"
    },
    "language_info": {
      "name": "python"
    }
  },
  "cells": [
    {
      "cell_type": "markdown",
      "metadata": {
        "id": "view-in-github",
        "colab_type": "text"
      },
      "source": [
        "<a href=\"https://colab.research.google.com/github/Dmitryimuachkin/Jupyter/blob/main/Currencies.ipynb\" target=\"_parent\"><img src=\"https://colab.research.google.com/assets/colab-badge.svg\" alt=\"Open In Colab\"/></a>"
      ]
    },
    {
      "cell_type": "code",
      "execution_count": null,
      "metadata": {
        "id": "AadHVb6SA6h0"
      },
      "outputs": [],
      "source": [
        "import requests\n",
        "import xmltodict\n",
        "\n",
        "url = 'http://www.cbr.ru/scripts/XML_daily.asp'\n",
        "response = requests.get(url)\n",
        "response"
      ]
    }
  ]
}